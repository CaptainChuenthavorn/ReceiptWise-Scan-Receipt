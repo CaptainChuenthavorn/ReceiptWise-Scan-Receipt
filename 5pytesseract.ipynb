{
 "cells": [
  {
   "cell_type": "code",
   "execution_count": 2,
   "metadata": {},
   "outputs": [
    {
     "name": "stdout",
     "output_type": "stream",
     "text": [
      "@ โอนเงินสําเร็จ\n",
      "\n",
      "01 มมิ.ย. 2566 - 08:11\n",
      "รหัสอ้างอิง: 20230601243qZdDBCFH2xXUhd\n",
      "\n",
      "จาก                                  @ ww กฤษฎา สารวิทย์\n",
      "XXX-XXX588-5\n",
      "\n",
      "ไปยัง                                2 นาย อภิสิทธิ์ เนียมสูงเนิน\n",
      "XXX-XXX-9297\n",
      "\n",
      "จํานวนเงิน                                                                 35.00\n",
      "\n",
      "ผู้รับเงินสามารถสแกนคิวอาธ์โค้ดนี้เพื่อ\n",
      "ตรวจสอบสถานะการโอนเงิน\n",
      "\n",
      "\n"
     ]
    }
   ],
   "source": []
  },
  {
   "cell_type": "code",
   "execution_count": null,
   "metadata": {},
   "outputs": [],
   "source": []
  }
 ],
 "metadata": {
  "kernelspec": {
   "display_name": "Python 3",
   "language": "python",
   "name": "python3"
  },
  "language_info": {
   "codemirror_mode": {
    "name": "ipython",
    "version": 3
   },
   "file_extension": ".py",
   "mimetype": "text/x-python",
   "name": "python",
   "nbconvert_exporter": "python",
   "pygments_lexer": "ipython3",
   "version": "3.11.4"
  }
 },
 "nbformat": 4,
 "nbformat_minor": 2
}
