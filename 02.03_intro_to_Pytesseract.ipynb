{
 "cells": [
  {
   "cell_type": "code",
   "execution_count": 2,
   "metadata": {},
   "outputs": [
    {
     "name": "stdout",
     "output_type": "stream",
     "text": [
      "@ โอ น เง ิ น ส ํ า เร ็ จ\n",
      "\n",
      "30 พ . ค . 2566 - 20:58\n",
      "ร ห ั ส อ ้ า ง อ ิ ง : 2023053020| เ ง ง 3 ๑ 8 ร ส ป เต ่ ง 402\n",
      "\n",
      "จ า ก @ ww ก ฤ ษ ฎา ส า ร ว ิ ท ย ์\n",
      "\n",
      "XXX-XXX588-5\n",
      "\n",
      "ไป ย ั ง 0 น . ส . ณั ชวด ี ต ิ ณ ภ ู ม ิ\n",
      "\n",
      "XXX-XXX-1324\n",
      "\n",
      "จ ํ า น ว น เง ิ น 135.00\n",
      "\n",
      "ผู ้ ร ั บ เง ิ น ส า ม า ร ถ ส แก น ค ิ ว อ า ร ์ โค ้ ด น ์ เพ ื ่ อ\n",
      "ต ร ว จ ส อ บ ส ถา น ะ ก า ร โอ น เง ิ น\n",
      "\n",
      "\n"
     ]
    }
   ],
   "source": [
    "import pytesseract\n",
    "from PIL import Image\n",
    "img_file = 'E-receipt-Dataset\\scb\\IMG_0689.JPG'\n",
    "img = Image.open(img_file)\n",
    "ocr_result=pytesseract.image_to_string(img,lang='eng+tha')\n",
    "print(ocr_result)"
   ]
  },
  {
   "cell_type": "markdown",
   "metadata": {},
   "source": [
    "# preprocess for"
   ]
  },
  {
   "cell_type": "code",
   "execution_count": null,
   "metadata": {},
   "outputs": [],
   "source": []
  }
 ],
 "metadata": {
  "kernelspec": {
   "display_name": "Python 3",
   "language": "python",
   "name": "python3"
  },
  "language_info": {
   "codemirror_mode": {
    "name": "ipython",
    "version": 3
   },
   "file_extension": ".py",
   "mimetype": "text/x-python",
   "name": "python",
   "nbconvert_exporter": "python",
   "pygments_lexer": "ipython3",
   "version": "3.11.4"
  }
 },
 "nbformat": 4,
 "nbformat_minor": 2
}
