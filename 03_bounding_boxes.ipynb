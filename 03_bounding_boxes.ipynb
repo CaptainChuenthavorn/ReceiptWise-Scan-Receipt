{
 "cells": [
  {
   "cell_type": "code",
   "execution_count": 1,
   "metadata": {},
   "outputs": [],
   "source": [
    "import os\n",
    "directory_folder='temp'\n",
    "for filename in os.listdir(directory_folder):\n",
    "    if os.path.isfile(os.path.join(directory_folder, filename)):\n",
    "        os.remove(os.path.join(directory_folder, filename))"
   ]
  },
  {
   "cell_type": "code",
   "execution_count": 2,
   "metadata": {},
   "outputs": [
    {
     "data": {
      "text/plain": [
       "True"
      ]
     },
     "execution_count": 2,
     "metadata": {},
     "output_type": "execute_result"
    }
   ],
   "source": [
    "import pytesseract\n",
    "import cv2\n",
    "image = cv2.imread(\"E-receipt-Dataset\\scb\\HScreenshot.jpg\")\n",
    "gray = cv2.cvtColor(image,cv2.COLOR_BGR2GRAY)\n",
    "cv2.imwrite(\"temp/1scb_gray.png\",gray)\n",
    "blur=cv2.GaussianBlur(gray,(7,7),0)\n",
    "cv2.imwrite(\"temp/2scb_blur.png\",blur)\n"
   ]
  },
  {
   "cell_type": "code",
   "execution_count": 3,
   "metadata": {},
   "outputs": [],
   "source": [
    "for i in range(0,250,20):\n",
    "    thresh=cv2.threshold(blur,i,255,cv2.THRESH_BINARY_INV)[1]\n",
    "    cv2.imwrite(f\"temp/3scb_thresh{i}.png\",thresh)"
   ]
  },
  {
   "cell_type": "code",
   "execution_count": 4,
   "metadata": {},
   "outputs": [],
   "source": [
    "\n",
    "thresh= cv2.imread(r\"temp\\3scb_thresh200.png\")"
   ]
  },
  {
   "cell_type": "code",
   "execution_count": 5,
   "metadata": {},
   "outputs": [
    {
     "data": {
      "text/plain": [
       "True"
      ]
     },
     "execution_count": 5,
     "metadata": {},
     "output_type": "execute_result"
    }
   ],
   "source": [
    "kernal = cv2.getStructuringElement(cv2.MORPH_RECT,(3,8))\n",
    "cv2.imwrite('temp/4scb_kernal.png',kernal)\n",
    "dilate = cv2.dilate(thresh,kernal,iterations=2)\n",
    "cv2.imwrite('temp/5scb_dilate.png',dilate)\n"
   ]
  },
  {
   "cell_type": "code",
   "execution_count": 9,
   "metadata": {},
   "outputs": [],
   "source": [
    "dilate_gray = cv2.cvtColor(dilate, cv2.COLOR_BGR2GRAY)\n"
   ]
  },
  {
   "cell_type": "code",
   "execution_count": 10,
   "metadata": {},
   "outputs": [
    {
     "data": {
      "text/plain": [
       "dtype('uint8')"
      ]
     },
     "execution_count": 10,
     "metadata": {},
     "output_type": "execute_result"
    }
   ],
   "source": [
    "dilate.dtype"
   ]
  },
  {
   "cell_type": "code",
   "execution_count": 13,
   "metadata": {},
   "outputs": [
    {
     "ename": "error",
     "evalue": "OpenCV(4.8.0) D:\\a\\opencv-python\\opencv-python\\opencv\\modules\\imgproc\\src\\contours.cpp:197: error: (-210:Unsupported format or combination of formats) [Start]FindContours supports only CV_8UC1 images when mode != CV_RETR_FLOODFILL otherwise supports CV_32SC1 images only in function 'cvStartFindContours_Impl'\n",
     "output_type": "error",
     "traceback": [
      "\u001b[1;31m---------------------------------------------------------------------------\u001b[0m",
      "\u001b[1;31merror\u001b[0m                                     Traceback (most recent call last)",
      "\u001b[1;32md:\\Programming\\ReceiptWise\\ReceiptWise-Scan-Receipt\\03_bounding_boxes.ipynb Cell 8\u001b[0m line \u001b[0;36m2\n\u001b[0;32m      <a href='vscode-notebook-cell:/d%3A/Programming/ReceiptWise/ReceiptWise-Scan-Receipt/03_bounding_boxes.ipynb#W5sZmlsZQ%3D%3D?line=0'>1</a>\u001b[0m \u001b[39m# cnts, _ = cv2.findContours(dilate,cv2.RETR_EXTERNAL,cv2.CHAIN_APPROX_SIMPLE)\u001b[39;00m\n\u001b[1;32m----> <a href='vscode-notebook-cell:/d%3A/Programming/ReceiptWise/ReceiptWise-Scan-Receipt/03_bounding_boxes.ipynb#W5sZmlsZQ%3D%3D?line=1'>2</a>\u001b[0m cnts, _ \u001b[39m=\u001b[39m cv2\u001b[39m.\u001b[39;49mfindContours(dilate, cv2\u001b[39m.\u001b[39;49mRETR_EXTERNAL, cv2\u001b[39m.\u001b[39;49mCHAIN_APPROX_SIMPLE)\n\u001b[0;32m      <a href='vscode-notebook-cell:/d%3A/Programming/ReceiptWise/ReceiptWise-Scan-Receipt/03_bounding_boxes.ipynb#W5sZmlsZQ%3D%3D?line=2'>3</a>\u001b[0m cnts \u001b[39m=\u001b[39m cnts[\u001b[39m0\u001b[39m] \u001b[39mif\u001b[39;00m \u001b[39mlen\u001b[39m(cnts) \u001b[39m==\u001b[39m \u001b[39m2\u001b[39m \u001b[39melse\u001b[39;00m cnts[\u001b[39m1\u001b[39m]\n\u001b[0;32m      <a href='vscode-notebook-cell:/d%3A/Programming/ReceiptWise/ReceiptWise-Scan-Receipt/03_bounding_boxes.ipynb#W5sZmlsZQ%3D%3D?line=3'>4</a>\u001b[0m cnts \u001b[39m=\u001b[39m \u001b[39msorted\u001b[39m(cnts,key\u001b[39m=\u001b[39m\u001b[39mlambda\u001b[39;00m x: cv2\u001b[39m.\u001b[39mboundingRect(x)[\u001b[39m0\u001b[39m])\n",
      "\u001b[1;31merror\u001b[0m: OpenCV(4.8.0) D:\\a\\opencv-python\\opencv-python\\opencv\\modules\\imgproc\\src\\contours.cpp:197: error: (-210:Unsupported format or combination of formats) [Start]FindContours supports only CV_8UC1 images when mode != CV_RETR_FLOODFILL otherwise supports CV_32SC1 images only in function 'cvStartFindContours_Impl'\n"
     ]
    }
   ],
   "source": [
    "# cnts, _ = cv2.findContours(dilate,cv2.RETR_EXTERNAL,cv2.CHAIN_APPROX_SIMPLE)\n",
    "cnts, _ = cv2.findContours(dilate, cv2.RETR_EXTERNAL, cv2.CHAIN_APPROX_SIMPLE)\n",
    "cnts = cnts[0] if len(cnts) == 2 else cnts[1]\n",
    "cnts = sorted(cnts,key=lambda x: cv2.boundingRect(x)[0])\n",
    "for c in cnts:\n",
    "    x, y, w, h =cv2.boundingRect(c)\n",
    "    cv2.rectangle(image, (x,y),(x+w,y+h),(36,255,12),10)\n",
    "    cv2.imwrite('temp/6scb_box.png',image)\n",
    "\n"
   ]
  },
  {
   "cell_type": "code",
   "execution_count": null,
   "metadata": {},
   "outputs": [],
   "source": []
  }
 ],
 "metadata": {
  "kernelspec": {
   "display_name": "Python 3",
   "language": "python",
   "name": "python3"
  },
  "language_info": {
   "codemirror_mode": {
    "name": "ipython",
    "version": 3
   },
   "file_extension": ".py",
   "mimetype": "text/x-python",
   "name": "python",
   "nbconvert_exporter": "python",
   "pygments_lexer": "ipython3",
   "version": "3.11.4"
  }
 },
 "nbformat": 4,
 "nbformat_minor": 2
}
