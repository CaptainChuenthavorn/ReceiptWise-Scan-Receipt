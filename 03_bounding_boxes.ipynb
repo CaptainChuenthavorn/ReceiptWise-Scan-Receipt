{
 "cells": [
  {
   "cell_type": "code",
   "execution_count": 1,
   "metadata": {},
   "outputs": [],
   "source": [
    "import os\n",
    "directory_folder='temp'\n",
    "for filename in os.listdir(directory_folder):\n",
    "    if os.path.isfile(os.path.join(directory_folder, filename)):\n",
    "        os.remove(os.path.join(directory_folder, filename))"
   ]
  },
  {
   "cell_type": "code",
   "execution_count": 4,
   "metadata": {},
   "outputs": [
    {
     "data": {
      "text/plain": [
       "True"
      ]
     },
     "execution_count": 4,
     "metadata": {},
     "output_type": "execute_result"
    }
   ],
   "source": [
    "import pytesseract\n",
    "import cv2\n",
    "image = cv2.imread(\"E-receipt-Dataset\\scb\\IMG_0701.JPG\")\n",
    "# cropim = image[27:1269,326:1677]\n",
    "cropim = image[326:1677,27:1269]\n",
    "\n",
    "cv2.imwrite(\"temp/0scb_crop.png\",cropim)"
   ]
  },
  {
   "cell_type": "code",
   "execution_count": 5,
   "metadata": {},
   "outputs": [
    {
     "data": {
      "text/plain": [
       "True"
      ]
     },
     "execution_count": 5,
     "metadata": {},
     "output_type": "execute_result"
    }
   ],
   "source": [
    "\n",
    "gray = cv2.cvtColor(cropim,cv2.COLOR_BGR2GRAY)\n",
    "cv2.imwrite(\"temp/1scb_gray.png\",gray)\n",
    "blur=cv2.GaussianBlur(gray,(7,7),0)\n",
    "cv2.imwrite(\"temp/2scb_blur.png\",blur)\n"
   ]
  },
  {
   "cell_type": "code",
   "execution_count": 13,
   "metadata": {},
   "outputs": [],
   "source": [
    "for i in range(0,250,5):\n",
    "    thresh=cv2.threshold(blur,i,255,cv2.THRESH_BINARY_INV)[1]\n",
    "    cv2.imwrite(f\"temp/3scb_thresh_white{i}.png\",thresh)"
   ]
  },
  {
   "cell_type": "code",
   "execution_count": 7,
   "metadata": {},
   "outputs": [],
   "source": [
    "\n",
    "thresh= cv2.imread(r\"temp\\3scb_thresh200.png\")"
   ]
  },
  {
   "cell_type": "code",
   "execution_count": 8,
   "metadata": {},
   "outputs": [
    {
     "data": {
      "text/plain": [
       "True"
      ]
     },
     "execution_count": 8,
     "metadata": {},
     "output_type": "execute_result"
    }
   ],
   "source": [
    "kernal = cv2.getStructuringElement(cv2.MORPH_RECT,(3,8))\n",
    "cv2.imwrite('temp/4scb_kernal.png',kernal)\n",
    "dilate = cv2.dilate(thresh,kernal,iterations=2)\n",
    "cv2.imwrite('temp/5scb_dilate.png',dilate)\n"
   ]
  },
  {
   "cell_type": "code",
   "execution_count": 9,
   "metadata": {},
   "outputs": [],
   "source": [
    "dilate_gray = cv2.cvtColor(dilate, cv2.COLOR_BGR2GRAY)\n"
   ]
  },
  {
   "cell_type": "code",
   "execution_count": 10,
   "metadata": {},
   "outputs": [
    {
     "data": {
      "text/plain": [
       "dtype('uint8')"
      ]
     },
     "execution_count": 10,
     "metadata": {},
     "output_type": "execute_result"
    }
   ],
   "source": [
    "dilate.dtype"
   ]
  },
  {
   "cell_type": "code",
   "execution_count": 11,
   "metadata": {},
   "outputs": [
    {
     "ename": "error",
     "evalue": "OpenCV(4.8.0) D:\\a\\opencv-python\\opencv-python\\opencv\\modules\\imgproc\\src\\contours.cpp:197: error: (-210:Unsupported format or combination of formats) [Start]FindContours supports only CV_8UC1 images when mode != CV_RETR_FLOODFILL otherwise supports CV_32SC1 images only in function 'cvStartFindContours_Impl'\n",
     "output_type": "error",
     "traceback": [
      "\u001b[1;31m---------------------------------------------------------------------------\u001b[0m",
      "\u001b[1;31merror\u001b[0m                                     Traceback (most recent call last)",
      "\u001b[1;32md:\\Programming\\ReceiptWise\\ReceiptWise-Scan-Receipt\\03_bounding_boxes.ipynb Cell 9\u001b[0m line \u001b[0;36m1\n\u001b[1;32m----> <a href='vscode-notebook-cell:/d%3A/Programming/ReceiptWise/ReceiptWise-Scan-Receipt/03_bounding_boxes.ipynb#X10sZmlsZQ%3D%3D?line=0'>1</a>\u001b[0m cnts \u001b[39m=\u001b[39m cv2\u001b[39m.\u001b[39;49mfindContours(dilate,cv2\u001b[39m.\u001b[39;49mRETR_EXTERNAL,cv2\u001b[39m.\u001b[39;49mCHAIN_APPROX_SIMPLE)\n\u001b[0;32m      <a href='vscode-notebook-cell:/d%3A/Programming/ReceiptWise/ReceiptWise-Scan-Receipt/03_bounding_boxes.ipynb#X10sZmlsZQ%3D%3D?line=1'>2</a>\u001b[0m \u001b[39m# cnts, _ = cv2.findContours(dilate, cv2.RETR_EXTERNAL, cv2.CHAIN_APPROX_SIMPLE)\u001b[39;00m\n\u001b[0;32m      <a href='vscode-notebook-cell:/d%3A/Programming/ReceiptWise/ReceiptWise-Scan-Receipt/03_bounding_boxes.ipynb#X10sZmlsZQ%3D%3D?line=2'>3</a>\u001b[0m cnts \u001b[39m=\u001b[39m cnts[\u001b[39m0\u001b[39m] \u001b[39mif\u001b[39;00m \u001b[39mlen\u001b[39m(cnts) \u001b[39m==\u001b[39m \u001b[39m2\u001b[39m \u001b[39melse\u001b[39;00m cnts[\u001b[39m1\u001b[39m]\n",
      "\u001b[1;31merror\u001b[0m: OpenCV(4.8.0) D:\\a\\opencv-python\\opencv-python\\opencv\\modules\\imgproc\\src\\contours.cpp:197: error: (-210:Unsupported format or combination of formats) [Start]FindContours supports only CV_8UC1 images when mode != CV_RETR_FLOODFILL otherwise supports CV_32SC1 images only in function 'cvStartFindContours_Impl'\n"
     ]
    }
   ],
   "source": [
    "cnts = cv2.findContours(dilate,cv2.RETR_EXTERNAL,cv2.CHAIN_APPROX_SIMPLE)\n",
    "# cnts, _ = cv2.findContours(dilate, cv2.RETR_EXTERNAL, cv2.CHAIN_APPROX_SIMPLE)\n",
    "cnts = cnts[0] if len(cnts) == 2 else cnts[1]\n",
    "cnts = sorted(cnts,key=lambda x: cv2.boundingRect(x)[0])\n",
    "for c in cnts:\n",
    "    x, y, w, h =cv2.boundingRect(c)\n",
    "    cv2.rectangle(image, (x,y),(x+w,y+h),(36,255,12),10)\n",
    "    cv2.imwrite('temp/6scb_box.png',image)\n",
    "\n"
   ]
  },
  {
   "cell_type": "code",
   "execution_count": null,
   "metadata": {},
   "outputs": [
    {
     "data": {
      "image/png": "[encoded data removed]",
      "text/plain": [
       "<Figure size 640x480 with 1 Axes>"
      ]
     },
     "metadata": {},
     "output_type": "display_data"
    }
   ],
   "source": [
    "import cv2\n",
    "import numpy as np\n",
    "from matplotlib import pyplot as plt\n",
    "\n",
    "file0 = 'E-receipt-Dataset\\scb\\IMG_0701.JPG'\n",
    "img = cv2.imread(file0)\n",
    "color = ('b','g','r')\n",
    "plt.figure()\n",
    "for i,col in enumerate(color):\n",
    "    histr = cv2.calcHist([img],[i],None,[256],[0,256])\n",
    "    plt.plot(histr,color = col)\n",
    "    plt.xlim([0,256])\n",
    "plt.show()"
   ]
  },
  {
   "cell_type": "code",
   "execution_count": 31,
   "metadata": {},
   "outputs": [
    {
     "data": {
      "text/plain": [
       "array([[[190, 139, 167],\n",
       "        [190, 139, 167],\n",
       "        [190, 139, 167],\n",
       "        ...,\n",
       "        [190, 139, 167],\n",
       "        [190, 139, 167],\n",
       "        [190, 139, 167]],\n",
       "\n",
       "       [[190, 139, 167],\n",
       "        [190, 139, 167],\n",
       "        [190, 139, 167],\n",
       "        ...,\n",
       "        [190, 139, 167],\n",
       "        [190, 139, 167],\n",
       "        [190, 139, 167]],\n",
       "\n",
       "       [[190, 139, 167],\n",
       "        [190, 139, 167],\n",
       "        [190, 139, 167],\n",
       "        ...,\n",
       "        [190, 139, 167],\n",
       "        [191, 140, 168],\n",
       "        [191, 140, 168]],\n",
       "\n",
       "       ...,\n",
       "\n",
       "       [[238, 244, 255],\n",
       "        [238, 244, 255],\n",
       "        [238, 244, 255],\n",
       "        ...,\n",
       "        [238, 244, 255],\n",
       "        [238, 244, 255],\n",
       "        [238, 244, 255]],\n",
       "\n",
       "       [[238, 244, 255],\n",
       "        [238, 244, 255],\n",
       "        [238, 244, 255],\n",
       "        ...,\n",
       "        [238, 244, 255],\n",
       "        [238, 244, 255],\n",
       "        [238, 244, 255]],\n",
       "\n",
       "       [[238, 244, 255],\n",
       "        [238, 244, 255],\n",
       "        [238, 244, 255],\n",
       "        ...,\n",
       "        [238, 244, 255],\n",
       "        [238, 244, 255],\n",
       "        [238, 244, 255]]], dtype=uint8)"
      ]
     },
     "metadata": {},
     "output_type": "display_data"
    },
    {
     "data": {
      "image/png": "[encoded data removed]",
      "text/plain": [
       "<Figure size 640x480 with 1 Axes>"
      ]
     },
     "metadata": {},
     "output_type": "display_data"
    }
   ],
   "source": [
    "import cv2\n",
    "import numpy as np\n",
    "\n",
    "def extract_text(image_path, text_colors):\n",
    "    # Read the image\n",
    "    image = cv2.imread(image_path)\n",
    "    # Convert the image to RGB\n",
    "    image_rgb = cv2.cvtColor(image, cv2.COLOR_BGR2RGB)\n",
    "\n",
    "    # Create a mask for each text color\n",
    "    masks = []\n",
    "    for color in text_colors:\n",
    "        lower_bound = np.array(color, dtype=np.uint8)\n",
    "        upper_bound = np.array(color, dtype=np.uint8)\n",
    "        mask = cv2.inRange(image_rgb, lower_bound, upper_bound)\n",
    "        masks.append(mask)\n",
    "\n",
    "    # Combine masks to get the final mask\n",
    "    final_mask = np.zeros_like(masks[0])\n",
    "    for mask in masks:\n",
    "        final_mask |= mask\n",
    "\n",
    "    # Extract text using the final mask\n",
    "    extracted_text = cv2.bitwise_and(image, image, mask=final_mask)\n",
    "\n",
    "    return extracted_text\n",
    "\n",
    "# Specify the path to your image\n",
    "image_path ='E-receipt-Dataset\\scb\\IMG_0703.JPG'\n",
    "\n",
    "# Specify the text colors you're interested in\n",
    "text_colors = [\n",
    "    [39, 39, 39],  # Black\n",
    "    [116, 112, 122],  # Gray\n",
    "    [64, 185, 78]  # Green\n",
    "]\n",
    "\n",
    "# Extract text of specified colors\n",
    "result = extract_text(image_path, text_colors)\n",
    "\n",
    "# Display the result\n",
    "# cv2.imshow('Extracted Text', result)\n",
    "# cv2.waitKey(0)\n",
    "# cv2.destroyAllWindows()\n",
    "\n",
    "plt.imshow(result)\n",
    "plt.show()\n"
   ]
  },
  {
   "cell_type": "code",
   "execution_count": null,
   "metadata": {},
   "outputs": [],
   "source": [
    "import pytesseract\n",
    "import cv2\n",
    "image = cv2.imread(r\"temp\\3scb_thresh200.png\")\n",
    "# cropim = image[27:1269,326:1677]\n",
    "# cropim = image[326:1677,27:1269]\n",
    "\n",
    "ocrresult = pytesseract.image_to_string(image,lang=\"tha+eng\")\n",
    "print(ocrresult)\n"
   ]
  },
  {
   "cell_type": "code",
   "execution_count": 14,
   "metadata": {},
   "outputs": [
    {
     "name": "stdout",
     "output_type": "stream",
     "text": [
      "OCR results have been written to ocr_results.txt\n"
     ]
    }
   ],
   "source": [
    "import pytesseract\n",
    "import cv2\n",
    "\n",
    "# Set the path to your folder\n",
    "folder_path = \"temp\"\n",
    "\n",
    "# Specify the range for the loop\n",
    "for i in range(0, 250, 5):\n",
    "    # Generate the filename based on the pattern\n",
    "    filename = f\"{folder_path}\\\\3scb_thresh_white{i}.png\"\n",
    "\n",
    "    # Read the image\n",
    "    image = cv2.imread(filename)\n",
    "\n",
    "    # Perform OCR on the image\n",
    "    ocr_result = pytesseract.image_to_string(image, lang=\"tha+eng\")\n",
    "\n",
    "    # Append the OCR result to a text file\n",
    "    with open(\"03_ocr_white_results.txt\", \"a\", encoding=\"utf-8\") as file:\n",
    "        file.write(f\"File: {filename}\\n\")\n",
    "        file.write(f\"OCR Result: {ocr_result}\\n\\n\")\n",
    "\n",
    "print(\"OCR results have been written to ocr_results.txt\")\n"
   ]
  },
  {
   "cell_type": "code",
   "execution_count": null,
   "metadata": {},
   "outputs": [],
   "source": [
    "import pytesseract\n",
    "import cv2\n",
    "\n",
    "# Set the path to your folder\n",
    "folder_path = \"temp\"\n",
    "\n",
    "# Specify the range for the loop\n",
    "for i in range(0, 250, 5):\n",
    "    # Generate the filename based on the pattern\n",
    "    filename = f\"{folder_path}\\\\3scb_thresh_white{i}.png\"\n",
    "\n",
    "    # Read the image\n",
    "    image = cv2.imread(filename)\n",
    "\n",
    "    # Perform OCR on the image\n",
    "    ocr_result = pytesseract.image_to_string(image, lang=\"tha+eng\")\n",
    "\n",
    "    # Append the OCR result to a text file\n",
    "    with open(\"03_ocr_white_results.txt\", \"a\", encoding=\"utf-8\") as file:\n",
    "        file.write(f\"File: {filename}\\n\")\n",
    "        file.write(f\"OCR Result: {ocr_result}\\n\\n\")\n",
    "\n",
    "print(\"OCR results have been written to ocr_results.txt\")\n"
   ]
  },
  {
   "cell_type": "code",
   "execution_count": null,
   "metadata": {},
   "outputs": [],
   "source": []
  }
 ],
 "metadata": {
  "kernelspec": {
   "display_name": "Python 3",
   "language": "python",
   "name": "python3"
  },
  "language_info": {
   "codemirror_mode": {
    "name": "ipython",
    "version": 3
   },
   "file_extension": ".py",
   "mimetype": "text/x-python",
   "name": "python",
   "nbconvert_exporter": "python",
   "pygments_lexer": "ipython3",
   "version": "3.11.4"
  }
 },
 "nbformat": 4,
 "nbformat_minor": 2
}
